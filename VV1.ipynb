{
  "nbformat": 4,
  "nbformat_minor": 0,
  "metadata": {
    "colab": {
      "provenance": []
    },
    "kernelspec": {
      "name": "python3",
      "display_name": "Python 3"
    },
    "language_info": {
      "name": "python"
    }
  },
  "cells": [
    {
      "cell_type": "markdown",
      "source": [
        "Save a copy in Drive of the given notebook and make changes.\n",
        "\n",
        "Output for each of the questions is provided below each question. You need to produce the same output."
      ],
      "metadata": {
        "id": "DRMwEtL9TMHl"
      }
    },
    {
      "cell_type": "code",
      "source": [
        "import numpy as np"
      ],
      "metadata": {
        "id": "VeuI0DyQTq50"
      },
      "execution_count": null,
      "outputs": []
    },
    {
      "cell_type": "markdown",
      "source": [
        " 1. Create a 4x6 matrix filled with all zeros."
      ],
      "metadata": {
        "id": "vzpMMu5tlLQl"
      }
    },
    {
      "cell_type": "code",
      "source": [
        "m1 = np.zeros((4,6), dtype = int)\n",
        "print(m1)"
      ],
      "metadata": {
        "colab": {
          "base_uri": "https://localhost:8080/"
        },
        "id": "n6yPmDGNl5yz",
        "outputId": "1a3a9e38-b62e-4ac6-c94a-59547a4830b2"
      },
      "execution_count": null,
      "outputs": [
        {
          "output_type": "stream",
          "name": "stdout",
          "text": [
            "[[0 0 0 0 0 0]\n",
            " [0 0 0 0 0 0]\n",
            " [0 0 0 0 0 0]\n",
            " [0 0 0 0 0 0]]\n"
          ]
        }
      ]
    },
    {
      "cell_type": "markdown",
      "source": [
        "2. Create a 5x5 matrix filled with all ones."
      ],
      "metadata": {
        "id": "h2FIk_vNmvRa"
      }
    },
    {
      "cell_type": "code",
      "source": [
        "m2 = np.ones((5,5))\n",
        "print(m2)"
      ],
      "metadata": {
        "colab": {
          "base_uri": "https://localhost:8080/"
        },
        "id": "brCfmuw0m-yW",
        "outputId": "d4929610-a35c-4eec-b64e-98e1ed9d5692"
      },
      "execution_count": null,
      "outputs": [
        {
          "output_type": "stream",
          "name": "stdout",
          "text": [
            "[[1. 1. 1. 1. 1.]\n",
            " [1. 1. 1. 1. 1.]\n",
            " [1. 1. 1. 1. 1.]\n",
            " [1. 1. 1. 1. 1.]\n",
            " [1. 1. 1. 1. 1.]]\n"
          ]
        }
      ]
    },
    {
      "cell_type": "markdown",
      "source": [
        "3.Create a matrix of (4,5) filled with 4."
      ],
      "metadata": {
        "id": "QI3JcIBRQgdV"
      }
    },
    {
      "cell_type": "code",
      "source": [
        "m3 = np.full((4,5), 4)\n",
        "print(m3)"
      ],
      "metadata": {
        "colab": {
          "base_uri": "https://localhost:8080/"
        },
        "id": "yNZmcJQYQnTq",
        "outputId": "12815865-333e-4487-bb22-9f791116c16a"
      },
      "execution_count": null,
      "outputs": [
        {
          "output_type": "stream",
          "name": "stdout",
          "text": [
            "[[4 4 4 4 4]\n",
            " [4 4 4 4 4]\n",
            " [4 4 4 4 4]\n",
            " [4 4 4 4 4]]\n"
          ]
        }
      ]
    },
    {
      "cell_type": "markdown",
      "source": [
        "For questions 4-13, consider the matrix\n",
        "\n",
        "a=[[1,2,3],[1,4,5],[8,4,2]]\n",
        "\n",
        "\n",
        "4. Write a code to get print the shape of the given matrix.\n",
        "\n",
        "\n"
      ],
      "metadata": {
        "id": "9EPUHqRWxUGG"
      }
    },
    {
      "cell_type": "code",
      "source": [
        "arr=[[1,2,3],[1,4,5],[8,4,2]]\n",
        "a = np.array(arr)\n",
        "print(a)"
      ],
      "metadata": {
        "colab": {
          "base_uri": "https://localhost:8080/"
        },
        "id": "zDmCNWTuMz2x",
        "outputId": "98aa095c-f73e-46e5-94cd-8dfb27cc3bdb"
      },
      "execution_count": null,
      "outputs": [
        {
          "output_type": "stream",
          "name": "stdout",
          "text": [
            "[[1 2 3]\n",
            " [1 4 5]\n",
            " [8 4 2]]\n"
          ]
        }
      ]
    },
    {
      "cell_type": "code",
      "source": [
        "print(a.shape)"
      ],
      "metadata": {
        "colab": {
          "base_uri": "https://localhost:8080/"
        },
        "id": "wvDHpmw8xUf0",
        "outputId": "a3f0fd3d-e7b6-4ae9-9479-1a9ce6211ca9"
      },
      "execution_count": null,
      "outputs": [
        {
          "output_type": "stream",
          "name": "stdout",
          "text": [
            "(3, 3)\n"
          ]
        }
      ]
    },
    {
      "cell_type": "markdown",
      "source": [
        "5.Write the code to print number of elements in a."
      ],
      "metadata": {
        "id": "8RZy077YyOCP"
      }
    },
    {
      "cell_type": "code",
      "source": [
        "print(np.size(a))"
      ],
      "metadata": {
        "colab": {
          "base_uri": "https://localhost:8080/"
        },
        "id": "52TT7eTmyOec",
        "outputId": "fcd1e88e-598b-40db-919a-6306aa2b456e"
      },
      "execution_count": null,
      "outputs": [
        {
          "output_type": "stream",
          "name": "stdout",
          "text": [
            "9\n"
          ]
        }
      ]
    },
    {
      "cell_type": "markdown",
      "source": [
        "6. Print the 2nd row,1st column and element at (1,2) of a."
      ],
      "metadata": {
        "id": "luN65JwsywXF"
      }
    },
    {
      "cell_type": "code",
      "source": [
        "print(a[2,:])\n",
        "print(a[:,1])\n",
        "print(a[1,2])"
      ],
      "metadata": {
        "colab": {
          "base_uri": "https://localhost:8080/"
        },
        "id": "3vaGSKkvywqE",
        "outputId": "119b56b9-2dd7-4581-c652-99c751674b5e"
      },
      "execution_count": null,
      "outputs": [
        {
          "output_type": "stream",
          "name": "stdout",
          "text": [
            "[8 4 2]\n",
            "[2 4 4]\n",
            "5\n"
          ]
        }
      ]
    },
    {
      "cell_type": "markdown",
      "source": [
        "7. Change the element at (2,1) to 5."
      ],
      "metadata": {
        "id": "Tl8iW0SB0SAz"
      }
    },
    {
      "cell_type": "code",
      "source": [
        "a[2,1] = 5\n",
        "print(a)"
      ],
      "metadata": {
        "colab": {
          "base_uri": "https://localhost:8080/"
        },
        "id": "X-J4EVFy0SX9",
        "outputId": "436c275d-ae34-4ff8-fcc2-2500f0803df2"
      },
      "execution_count": null,
      "outputs": [
        {
          "output_type": "stream",
          "name": "stdout",
          "text": [
            "[[1 2 3]\n",
            " [1 4 5]\n",
            " [8 5 2]]\n"
          ]
        }
      ]
    },
    {
      "cell_type": "markdown",
      "source": [
        "8. Print the first and the last element of the first row using stepsize approach."
      ],
      "metadata": {
        "id": "_ZEJ3V01OCPv"
      }
    },
    {
      "cell_type": "code",
      "source": [
        "a[0,::2]"
      ],
      "metadata": {
        "colab": {
          "base_uri": "https://localhost:8080/"
        },
        "id": "Ls6bN0l8OCfI",
        "outputId": "80866a0e-27a5-42be-988c-ff13767682de"
      },
      "execution_count": null,
      "outputs": [
        {
          "output_type": "execute_result",
          "data": {
            "text/plain": [
              "array([1, 3])"
            ]
          },
          "metadata": {},
          "execution_count": 10
        }
      ]
    },
    {
      "cell_type": "markdown",
      "source": [
        "9. Print the maximum and minimum values of a."
      ],
      "metadata": {
        "id": "q5uREqwgPMPz"
      }
    },
    {
      "cell_type": "code",
      "source": [
        "print(np.max(a))\n",
        "print(np.min(a))"
      ],
      "metadata": {
        "colab": {
          "base_uri": "https://localhost:8080/"
        },
        "id": "boAOEPupPrld",
        "outputId": "6a5afaa3-27da-4b82-b44b-d9dd0827fd12"
      },
      "execution_count": null,
      "outputs": [
        {
          "output_type": "stream",
          "name": "stdout",
          "text": [
            "8\n",
            "1\n"
          ]
        }
      ]
    },
    {
      "cell_type": "markdown",
      "source": [
        "10. Print row-wise maximum values and their indicies of a."
      ],
      "metadata": {
        "id": "9QElTp8gP8QW"
      }
    },
    {
      "cell_type": "code",
      "source": [
        "print(np.max(a, axis=1))\n",
        "print(np.argmax(a, axis=1))"
      ],
      "metadata": {
        "colab": {
          "base_uri": "https://localhost:8080/"
        },
        "id": "O5L3zh78QEf_",
        "outputId": "cf11237d-2419-4079-b8be-324052a36198"
      },
      "execution_count": null,
      "outputs": [
        {
          "output_type": "stream",
          "name": "stdout",
          "text": [
            "[3 5 8]\n",
            "[2 2 0]\n"
          ]
        }
      ]
    },
    {
      "cell_type": "markdown",
      "source": [
        "11. Divide all the elements of a by 4."
      ],
      "metadata": {
        "id": "0IE744FoQSWG"
      }
    },
    {
      "cell_type": "code",
      "source": [
        "m = a/4\n",
        "m"
      ],
      "metadata": {
        "colab": {
          "base_uri": "https://localhost:8080/"
        },
        "id": "oPCET_aGRUZs",
        "outputId": "5315ddd9-cbfb-4234-fee3-dcace38259db"
      },
      "execution_count": null,
      "outputs": [
        {
          "output_type": "execute_result",
          "data": {
            "text/plain": [
              "array([[0.25, 0.5 , 0.75],\n",
              "       [0.25, 1.  , 1.25],\n",
              "       [2.  , 1.25, 0.5 ]])"
            ]
          },
          "metadata": {},
          "execution_count": 13
        }
      ]
    },
    {
      "cell_type": "markdown",
      "source": [
        "12. Sort a along the second axis."
      ],
      "metadata": {
        "id": "XJC4bsKqZGH5"
      }
    },
    {
      "cell_type": "code",
      "source": [
        "np.sort(a, axis=1)"
      ],
      "metadata": {
        "colab": {
          "base_uri": "https://localhost:8080/"
        },
        "id": "KNvZ1--cZJqQ",
        "outputId": "ac00a8e7-d921-4135-d11d-f116b2f3ed39"
      },
      "execution_count": null,
      "outputs": [
        {
          "output_type": "execute_result",
          "data": {
            "text/plain": [
              "array([[1, 2, 3],\n",
              "       [1, 4, 5],\n",
              "       [2, 5, 8]])"
            ]
          },
          "metadata": {},
          "execution_count": 14
        }
      ]
    },
    {
      "cell_type": "markdown",
      "source": [
        "13. Print the indices that would sort a along the second axis."
      ],
      "metadata": {
        "id": "sJwxQ-DFZOab"
      }
    },
    {
      "cell_type": "code",
      "source": [
        "np.argsort(a, axis=1)"
      ],
      "metadata": {
        "colab": {
          "base_uri": "https://localhost:8080/"
        },
        "id": "MunD903tZVD-",
        "outputId": "bc8dabd5-a72d-4297-d36b-bd5ebfde7dbd"
      },
      "execution_count": null,
      "outputs": [
        {
          "output_type": "execute_result",
          "data": {
            "text/plain": [
              "array([[0, 1, 2],\n",
              "       [0, 1, 2],\n",
              "       [2, 1, 0]])"
            ]
          },
          "metadata": {},
          "execution_count": 15
        }
      ]
    },
    {
      "cell_type": "markdown",
      "source": [
        "14. Create an identity matrix of size 6x6."
      ],
      "metadata": {
        "id": "BoUOb-UORXum"
      }
    },
    {
      "cell_type": "code",
      "source": [
        "np.eye(6,6)"
      ],
      "metadata": {
        "colab": {
          "base_uri": "https://localhost:8080/"
        },
        "id": "Pgt0H_6tRmMg",
        "outputId": "0077297c-8b43-4e59-98bb-c2f344625ed0"
      },
      "execution_count": null,
      "outputs": [
        {
          "output_type": "execute_result",
          "data": {
            "text/plain": [
              "array([[1., 0., 0., 0., 0., 0.],\n",
              "       [0., 1., 0., 0., 0., 0.],\n",
              "       [0., 0., 1., 0., 0., 0.],\n",
              "       [0., 0., 0., 1., 0., 0.],\n",
              "       [0., 0., 0., 0., 1., 0.],\n",
              "       [0., 0., 0., 0., 0., 1.]])"
            ]
          },
          "metadata": {},
          "execution_count": 16
        }
      ]
    },
    {
      "cell_type": "markdown",
      "source": [
        "15. Let b=[1,4,3,2,6,8,5,4,2,0], split b into 3 arrays each of 3,4,3 elements."
      ],
      "metadata": {
        "id": "4flSMoMVRrwm"
      }
    },
    {
      "cell_type": "code",
      "source": [
        "b = np.array([1,4,3,2,6,8,5,4,2,0])\n",
        "B = np.split(b, [3,7])\n",
        "B"
      ],
      "metadata": {
        "id": "j2d8D-mfRWxI",
        "colab": {
          "base_uri": "https://localhost:8080/"
        },
        "outputId": "00636b62-22de-4408-8d13-36081158ef14"
      },
      "execution_count": null,
      "outputs": [
        {
          "output_type": "execute_result",
          "data": {
            "text/plain": [
              "[array([1, 4, 3]), array([2, 6, 8, 5]), array([4, 2, 0])]"
            ]
          },
          "metadata": {},
          "execution_count": 17
        }
      ]
    },
    {
      "cell_type": "markdown",
      "source": [
        "16.Create a 1-D array of 40 evenly spaced elements between 0. and 1., inclusive."
      ],
      "metadata": {
        "id": "ZiDMu4HQzzh4"
      }
    },
    {
      "cell_type": "code",
      "source": [
        "x = np.linspace(0, 1, 40)\n",
        "x"
      ],
      "metadata": {
        "colab": {
          "base_uri": "https://localhost:8080/"
        },
        "id": "ZUqfFQAZzydo",
        "outputId": "dbf7e1c7-b3b0-4d20-b7f9-1687723541c5"
      },
      "execution_count": null,
      "outputs": [
        {
          "output_type": "execute_result",
          "data": {
            "text/plain": [
              "array([0.        , 0.02564103, 0.05128205, 0.07692308, 0.1025641 ,\n",
              "       0.12820513, 0.15384615, 0.17948718, 0.20512821, 0.23076923,\n",
              "       0.25641026, 0.28205128, 0.30769231, 0.33333333, 0.35897436,\n",
              "       0.38461538, 0.41025641, 0.43589744, 0.46153846, 0.48717949,\n",
              "       0.51282051, 0.53846154, 0.56410256, 0.58974359, 0.61538462,\n",
              "       0.64102564, 0.66666667, 0.69230769, 0.71794872, 0.74358974,\n",
              "       0.76923077, 0.79487179, 0.82051282, 0.84615385, 0.87179487,\n",
              "       0.8974359 , 0.92307692, 0.94871795, 0.97435897, 1.        ])"
            ]
          },
          "metadata": {},
          "execution_count": 18
        }
      ]
    },
    {
      "cell_type": "markdown",
      "source": [
        "17. Mutliply given arrays element-wise.\n",
        "\n",
        "a=[[4,7,2],[1,3,9]]\n",
        "\n",
        "b=[[1,5,0],[2,7,5]]"
      ],
      "metadata": {
        "id": "U4BSpQosnREt"
      }
    },
    {
      "cell_type": "code",
      "source": [
        "ao = np.array([[4, 7, 2], [1, 3, 9]])\n",
        "bo = np.array([[1, 5, 0], [2, 7, 5]])\n",
        "mo = np.multiply(ao,bo)\n",
        "print(mo)"
      ],
      "metadata": {
        "colab": {
          "base_uri": "https://localhost:8080/"
        },
        "id": "3cDb_yGInQBP",
        "outputId": "5f9215da-3bf9-4252-a14c-16f9a862aeaa"
      },
      "execution_count": null,
      "outputs": [
        {
          "output_type": "stream",
          "name": "stdout",
          "text": [
            "[[ 4 35  0]\n",
            " [ 2 21 45]]\n"
          ]
        }
      ]
    },
    {
      "cell_type": "markdown",
      "source": [
        "18. Create a 3x2 array with random values from 0 to 1."
      ],
      "metadata": {
        "id": "eTjRvsNmo1dm"
      }
    },
    {
      "cell_type": "code",
      "source": [
        "r = np.random.rand(3, 2)\n",
        "print(r)"
      ],
      "metadata": {
        "colab": {
          "base_uri": "https://localhost:8080/"
        },
        "id": "9OaI6Vjd0_3Z",
        "outputId": "6bb91e45-92fe-4eca-be97-efd312205bbe"
      },
      "execution_count": null,
      "outputs": [
        {
          "output_type": "stream",
          "name": "stdout",
          "text": [
            "[[0.42977255 0.40770348]\n",
            " [0.10143425 0.5621142 ]\n",
            " [0.91784259 0.75251524]]\n"
          ]
        }
      ]
    }
  ]
}